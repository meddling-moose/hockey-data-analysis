{
 "cells": [
  {
   "cell_type": "code",
   "execution_count": 2,
   "id": "4853277b",
   "metadata": {},
   "outputs": [],
   "source": [
    "import pandas as pd\n",
    "import numpy as np\n"
   ]
  },
  {
   "cell_type": "code",
   "execution_count": 4,
   "id": "29d28f0f",
   "metadata": {},
   "outputs": [],
   "source": [
    "# Load datasets from \n",
    "goalies_csv = pd.read_csv(\"resources/boston/goalies-bruins-0809.csv\")\n",
    "teams_csv = pd.read_csv(\"resources/boston/teams-bruins-0809.csv\")\n",
    "lines_csv = pd.read_csv(\"resources/boston/teams-bruins-0809.csv\")\n",
    "skaters_csv = pd.read_csv(\"resources/boston/teams-bruins-0809.csv\")"
   ]
  },
  {
   "cell_type": "code",
   "execution_count": null,
   "id": "7d6501a1",
   "metadata": {},
   "outputs": [],
   "source": []
  },
  {
   "cell_type": "code",
   "execution_count": null,
   "id": "8d65a60f",
   "metadata": {
    "collapsed": true
   },
   "outputs": [],
   "source": []
  }
 ],
 "metadata": {
  "kernelspec": {
   "display_name": "Python 3 (ipykernel)",
   "language": "python",
   "name": "python3"
  },
  "language_info": {
   "codemirror_mode": {
    "name": "ipython",
    "version": 3
   },
   "file_extension": ".py",
   "mimetype": "text/x-python",
   "name": "python",
   "nbconvert_exporter": "python",
   "pygments_lexer": "ipython3",
   "version": "3.11.5"
  }
 },
 "nbformat": 4,
 "nbformat_minor": 5
}
